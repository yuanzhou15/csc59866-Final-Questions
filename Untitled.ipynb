{
 "cells": [
  {
   "cell_type": "markdown",
   "metadata": {},
   "source": [
    "### CSC 59866 : Senior Design (I) Final Questions\n",
    "##### Yuan Zhou\n"
   ]
  },
  {
   "cell_type": "markdown",
   "metadata": {},
   "source": [
    "### Multiple choice\n",
    "Exploratory Data Analysis (EDA) is an approach/philosophy for data analysis that employs a variety of techniques (mostly graphical) to ?\n",
    "\n",
    "- [ ] Uncover underlying structure\n",
    "- [ ] Extract important variables\n",
    "- [ ] Detect outliers and anomalies\n",
    "- [x] All of the above (Correct)\n",
    "\n",
    "In regression analysis, if the independent variable is measured in kilograms, the dependent\n",
    "variable:\n",
    "1. Must also be in kilograms\n",
    "2. Must be in some unit of weight\n",
    "3. Cannot be in kilograms\n",
    "4. Can be any units (Correct)\n",
    "\n",
    "what is true about an Empirical Cumulative Distribution Function (ECDF)?\n",
    "1. It is a step that is carried out after you train a model\n",
    "2. It is useful to get rid of outliers\n",
    "3. It assigns a probability of to each datum, orders the data from smallest to largest in value, and calculates the sum of the assigned probabilities up to and including each datum. (Correct) \n",
    "4. It helps to group data into batches for a machine learning model.\n",
    "\n",
    "Which of the following is not true of the normal distribution? \n",
    "1. the distribution is symmetrical about the vertical line drawn from the peak of the curve\n",
    "2. The curve approaches the x-axis gradually on either side of the mean\n",
    "3. The curve is asymmetrical (Correct)\n",
    "4. The measures of central tendency (mean, mode, and median) are equal in value\n",
    "\n",
    "A residual plot:\n",
    "1. Displays residuals of the explanatory variable versus residuals of the response variable.\n",
    "2. Displays residuals of the explanatory variable versus the response variable.\n",
    "3. Displays explanatory variable versus residuals of the response variable. (correct)\n",
    "4. displays the explanatory variable on the x axis versus the response variable on the y axis.\n",
    "\n",
    "A fitted least squares regression line,\n",
    "1. May be used to predict a value of y if the corresponding x value is given (correct)\n",
    "2. Is evidence for a cause-effect relationship between x and y\n",
    "3. Can only be computed if a strong linear relationship exists between x and y\n",
    "4. None of the above\n",
    "\n",
    "If the correlation coefficient is a positive value, then the slope of the regression line:\n",
    "1. Can be either negative or positive\n",
    "2. Must also be postitive (Correct)\n",
    "3. Can be zero\n",
    "4. Cannot be zero\n",
    "\n",
    "Averaging the output of multiple decision trees helps to:\n",
    "1. Increase bias\n",
    "2. Decrease bias\n",
    "3. Increase variance\n",
    "4. Decrease variance\n",
    "\n",
    "\n",
    "\n"
   ]
  },
  {
   "cell_type": "code",
   "execution_count": null,
   "metadata": {},
   "outputs": [],
   "source": []
  }
 ],
 "metadata": {
  "kernelspec": {
   "display_name": "Python 3",
   "language": "python",
   "name": "python3"
  },
  "language_info": {
   "codemirror_mode": {
    "name": "ipython",
    "version": 3
   },
   "file_extension": ".py",
   "mimetype": "text/x-python",
   "name": "python",
   "nbconvert_exporter": "python",
   "pygments_lexer": "ipython3",
   "version": "3.6.3"
  }
 },
 "nbformat": 4,
 "nbformat_minor": 2
}
